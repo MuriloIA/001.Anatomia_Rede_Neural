{
 "cells": [
  {
   "cell_type": "markdown",
   "id": "e6f8b40f",
   "metadata": {},
   "source": [
    "# Anatomia de Uma Rede Neural | SimpleNet"
   ]
  },
  {
   "cell_type": "markdown",
   "id": "ae02a5c8",
   "metadata": {},
   "source": [
    "## 1. Introdução 📖\n",
    "\n",
    "<p style='text-align: justify;'>Neste projeto, embarcamos em uma exploração detalhada para desvendar os intricados detalhes da construção de modelos de Deep Learning. O objetivo principal é fornecer um entendimento abrangente das etapas fundamentais envolvidas na construção desses modelos, utilizando as poderosas ferramentas PyTorch e PyTorch Lightning.</p>\n",
    "\n",
    "<p style='text-align: justify;'>O <a href=\"https://pytorch.org/get-started/pytorch-2.0/\" target=\"_blank\">PyTorch</a> é uma biblioteca de aprendizado profundo de código aberto que oferece a flexibilidade e a velocidade necessárias na pesquisa de aprendizado profundo. Ele suporta operações de tensor com aceleração de GPU, fornece uma plataforma de aprendizado profundo que oferece versatilidade e velocidade, e se integra perfeitamente ao ecossistema Python.</p>\n",
    "\n",
    "<p style='text-align: justify;'>Por outro lado, o <a href=\"https://lightning.ai/docs/pytorch/stable/\" target=\"_blank\">PyTorch Lightning</a> é uma estrutura leve que organiza o código PyTorch. Ele permite que os pesquisadores se concentrem nas partes inovadoras de seus projetos, eliminando a necessidade de escrever código repetitivo. Construído sobre o PyTorch, o PyTorch Lightning permite que você escale seus modelos sem a necessidade de reescrever seu código.</p>\n",
    "\n",
    "\n",
    "<p style='text-align: justify;'>Este caderno vai além de um simples tutorial; é uma exploração prática do mundo fascinante do Deep Learning. Este projeto é fruto da minha formação como Engenheiro de Inteligência Artificial na <a href=\"https://www.datascienceacademy.com.br/start\" target=\"_blank\">Data Science Academy</a>. Com este caderno, esperamos não apenas ensinar, mas também inspirar você a explorar ainda mais as possibilidades do Deep Learning.</p>"
   ]
  },
  {
   "cell_type": "markdown",
   "id": "11a591d8",
   "metadata": {},
   "source": [
    "## 2. Configuração ⚙️\n",
    "\n",
    "### 2.1 Carga de Pacotes Python\n",
    "\n",
    "Este Jupyter Notebook utiliza várias bibliotecas Python, cada uma com um propósito específico:\n",
    "\n",
    "<div style=\"background-color: #f0f0f0; padding: 10px; border-radius: 10px;\">\n",
    "\n",
    "1. **os**: `Interage com o sistema operacional, permitindo a manipulação de arquivos e diretórios.`\n",
    "2. **warnings**: `Emite mensagens de aviso ao usuário.`\n",
    "4. **torch e lightning (pl)**: `PyTorch é usado para aprendizado profundo e PyTorch Lightning organiza o código PyTorch.`\n",
    "\n",
    "</div>\n",
    "\n",
    "<center><div style=\"display: flex; justify-content: center; align-items: center;\">\n",
    "    <img src=\"imagens/np.png\" alt=\"numpy\" style=\"width:100px; margin: 15px;\"> \n",
    "    <img src=\"imagens/torch.jpeg\" alt=\"torch\" style=\"width:180px; margin: 15px;\"> \n",
    "    <img src=\"imagens/lightning.png\" alt=\"lightning\" style=\"width:190px; margin: 15px;\">\n",
    "</div></center>"
   ]
  },
  {
   "cell_type": "code",
   "execution_count": 3,
   "id": "5c84d827",
   "metadata": {},
   "outputs": [],
   "source": [
    "# Ambiente de desenvolvimento\n",
    "import os\n",
    "import warnings\n",
    "\n",
    "# Pytorch\n",
    "import torch\n",
    "from torch import nn, optim\n",
    "from torch.autograd import Variable\n",
    "from torch.utils.data import DataLoader\n",
    "\n",
    "# Lightning\n",
    "import lightning\n",
    "from lightning import Trainer\n",
    "from lightning.pytorch.callbacks import ModelCheckpoint"
   ]
  },
  {
   "cell_type": "code",
   "execution_count": 4,
   "id": "64c8ce23",
   "metadata": {},
   "outputs": [],
   "source": [
    "# Igorando avisos desnecessários\n",
    "warnings.filterwarnings(\"ignore\")"
   ]
  },
  {
   "cell_type": "markdown",
   "id": "ac6f3383",
   "metadata": {},
   "source": [
    "### 2.2 Checando Versões dos Pacotes"
   ]
  },
  {
   "cell_type": "code",
   "execution_count": 5,
   "id": "cee64598",
   "metadata": {},
   "outputs": [
    {
     "name": "stdout",
     "output_type": "stream",
     "text": [
      "--= VERSÕES DOS PACOTES UTILIZADOS =--\n",
      "  - Pytorch: 2.0.1+cu117\n",
      "  - Lightning: 2.0.9\n",
      "--= ------------------------------ =--\n"
     ]
    }
   ],
   "source": [
    "print(\"--= VERSÕES DOS PACOTES UTILIZADOS =--\")\n",
    "print(f\"  - Pytorch: {torch.__version__}\")\n",
    "print(f\"  - Lightning: {lightning.__version__}\")\n",
    "print(\"--= ------------------------------ =--\")"
   ]
  },
  {
   "cell_type": "markdown",
   "id": "79a44666",
   "metadata": {},
   "source": [
    "### 2.3 Ambiente de Desenvolvimento e Reprodutibilidade dos Experimentos\n",
    "\n",
    "<p style='text-align: justify;'>A função <strong>set_seed</strong> é usada para definir a semente para geradores de números aleatórios no PyTorch. Isso é útil para garantir que os experimentos sejam reproduzíveis, ou seja, que os mesmos resultados sejam obtidos sempre que o código for executado com a mesma semente.</p>\n",
    "\n",
    "Aqui estão as funcionalidades de cada parte do código:\n",
    "\n",
    "<div style=\"background-color: #f0f0f0; padding: 10px; border-radius: 10px;\">\n",
    "    \n",
    "1. `torch.manual_seed(seed)`: Define a semente para o gerador de números aleatórios do PyTorch para a CPU.\n",
    "\n",
    "2. `os.environ['PYTHONHASHSEED'] = str(seed)`: Define a semente para as funções hash do Python.\n",
    "\n",
    "3. `if torch.cuda.is_available()`: Verifica se uma GPU está disponível.\n",
    "\n",
    "4. `torch.cuda.manual_seed_all(seed)`: Define a semente para todas as GPUs disponíveis.\n",
    "\n",
    "5. `torch.backends.cudnn.deterministic = True`: Garante que o backend cuDNN use apenas algoritmos determinísticos.\n",
    "\n",
    "6. `torch.backends.cudnn.benchmark = False`: Desativa o uso de um algoritmo de convolução heurístico.\n",
    "    \n",
    "</div>"
   ]
  },
  {
   "cell_type": "code",
   "execution_count": 8,
   "id": "d6d21e5b",
   "metadata": {},
   "outputs": [],
   "source": [
    "def set_seed(seed):\n",
    "    \"\"\"\n",
    "    Define a semente para geradores de números aleatórios no PyTorch e no ambiente Python.\n",
    "    Isso garante que os resultados dos cálculos que usam números aleatórios sejam reproduzíveis.\n",
    "\n",
    "    Parâmetros:\n",
    "        - seed (int): A semente para os geradores de números aleatórios.\n",
    "    \"\"\"\n",
    "    \n",
    "    # CPU\n",
    "    torch.manual_seed(seed)\n",
    "    os.environ['PYTHONHASHSEED'] = str(seed)\n",
    "    \n",
    "    # GPU\n",
    "    if torch.cuda.is_available():\n",
    "        torch.cuda.manual_seed_all(seed)\n",
    "        torch.backends.cudnn.deterministic = True\n",
    "        torch.backends.cudnn.benchmark = False\n",
    "\n",
    "# Chamando a função set_seed()\n",
    "set_seed(seed=1996)"
   ]
  },
  {
   "cell_type": "code",
   "execution_count": 9,
   "id": "6fc6ab20",
   "metadata": {},
   "outputs": [
    {
     "name": "stdout",
     "output_type": "stream",
     "text": [
      "Dispositivo usado: cpu\n"
     ]
    }
   ],
   "source": [
    "# Dispositivo usado\n",
    "device = torch.device(\"cuda\" if torch.cuda.is_available() else \"cpu\")\n",
    "print(f\"Dispositivo usado: {device}\")"
   ]
  },
  {
   "cell_type": "markdown",
   "id": "1b4acfba",
   "metadata": {},
   "source": [
    "## 3. Preparação e Carregamento dos Dados 💽\n",
    "\n",
    "### 3.1 Gerando Dados para o Problema XOR (OU Exclusivo)\n",
    "\n",
    "<center><img src=\"imagens/xor.png\" width=50%;></center>\n",
    "\n",
    "<p style='text-align: justify;'>Este código está preparando um conjunto de dados para treinar um modelo de rede neural para resolver o problema XOR. O problema XOR é um problema clássico em redes neurais que não pode ser resolvido por uma única camada de perceptron, pois os dados do XOR não são linearmente separáveis.</p>\n",
    "\n",
    "Aqui está o que cada parte do código faz:\n",
    "\n",
    "<div style=\"background-color: #FAF0E6; padding: 10px; border-radius: 10px;\">\n",
    "\n",
    "1. **Dados de entrada e saída**: As variáveis `dados_entrada` e `dados_saida` contêm os quatro possíveis pares de entradas binárias e suas respectivas saídas para a operação XOR. Por exemplo, [0, 0] produz 0 e [0, 1] produz 1.\n",
    "\n",
    "2. **Dataset final**: A variável `dados_final` combina os dados de entrada e saída em uma única lista de tuplas. Cada tupla contém um par de entrada e a saída correspondente.\n",
    "\n",
    "3. **DataLoader**: A variável `loader_treinamento` é um DataLoader do PyTorch, que é uma ferramenta para carregar os dados em lotes durante o treinamento de uma rede neural. Neste caso, o tamanho do lote é definido como 1, o que significa que cada lote conterá apenas um par de entrada-saída.\n",
    "    \n",
    "</div>"
   ]
  },
  {
   "cell_type": "code",
   "execution_count": 11,
   "id": "97d70157",
   "metadata": {},
   "outputs": [],
   "source": [
    "def Creat_DataLoader():\n",
    "    \"\"\"\n",
    "    Cria um DataLoader com dados de entrada e saída para o problema XOR (OU Exclusivo).\n",
    "    \n",
    "    Os dados de entrada são combinações de 0s e 1s, e os dados de saída são o resultado da operação XOR nos dados de entrada.\n",
    "    \n",
    "    Retorna:\n",
    "    train_dataloader (DataLoader): Um DataLoader contendo os dados de entrada e saída.\n",
    "    \"\"\"\n",
    "    \n",
    "    # Dados de entrada\n",
    "    dados_entrada = [\n",
    "        Variable(torch.Tensor([0, 0])),\n",
    "        Variable(torch.Tensor([0, 1])),\n",
    "        Variable(torch.Tensor([1, 0])),\n",
    "        Variable(torch.Tensor([1, 1]))\n",
    "    ]\n",
    "    \n",
    "    # Dados de saída\n",
    "    dados_saida = [\n",
    "        Variable(torch.Tensor([0])),\n",
    "        Variable(torch.Tensor([1])),\n",
    "        Variable(torch.Tensor([1])),\n",
    "        Variable(torch.Tensor([0]))\n",
    "    ]\n",
    "    \n",
    "    # Compactando os dados\n",
    "    dados_compactados = list(zip(dados_entrada, dados_saida))\n",
    "    \n",
    "    # Criando DataLoader\n",
    "    train_dataloader = DataLoader(dataset=dados_compactados, batch_size=1)\n",
    "    \n",
    "    # Retornando os dados de treino\n",
    "    return train_dataloader\n",
    "\n",
    "# Chamando a função Creat_DataLoader\n",
    "train_dataloader = Creat_DataLoader()"
   ]
  },
  {
   "cell_type": "markdown",
   "id": "04f10740",
   "metadata": {},
   "source": [
    "## 4. SimpleNet: Uma Visão Geral 🧠\n",
    "\n",
    "A `SimpleNet` é uma classe que implementa uma rede neural simples usando PyTorch Lightning. A rede consiste em uma camada de entrada, uma camada de saída e uma função de ativação sigmóide.\n",
    "\n",
    "No método `__init__`, a camada de entrada, a camada de saída, a função de ativação sigmóide e a função de perda são inicializadas. A camada de entrada é uma camada linear que recebe 2 entradas e produz 4 saídas. A camada de saída é outra camada linear que recebe 4 entradas (do output da camada de entrada) e produz 1 saída. A função de ativação sigmóide é usada para adicionar não-linearidade ao modelo. A função de perda usada é a perda quadrática média (MSE).\n",
    "\n",
    "O método `forward` realiza a passagem para frente na rede neural. A entrada passa pela camada de entrada, depois pela função de ativação sigmóide e finalmente pela camada de saída.\n",
    "\n",
    "O método `configure_optimizers` configura o otimizador para a rede neural. Ele usa o otimizador Adam com uma taxa de aprendizado de 0.01.\n",
    "\n",
    "O método `training_step` realiza uma etapa de treinamento na rede neural. A perda é calculada comparando as saídas da rede com as saídas reais usando a função de perda definida no construtor.\n",
    "\n",
    "---\n",
    "\n",
    "<center><img src=\"imagens/simplenet.png\" width=40%;></center>"
   ]
  },
  {
   "cell_type": "markdown",
   "id": "d370889a",
   "metadata": {},
   "source": [
    "### 4.1 Função de Custo (MSE)\n",
    "\n",
    "A função de custo \\textit{Mean Squared Error} (MSE), ou Erro Quadrático Médio em português, é uma das funções de perda mais utilizadas para problemas de regressão. Ela calcula a média dos quadrados das diferenças entre os valores previstos e os valores reais.\n",
    "\n",
    "Aqui está a fórmula matemática para o MSE:\n",
    "\n",
    "$$MSE = \\frac{1}{n} \\sum_{i=1}^{n} (y_i - \\hat{y}_i)^2$$\n",
    "\n",
    "Onde:\n",
    "\n",
    "- $n$ é o número total de exemplos no conjunto de dados\n",
    "- $y_i$ é o valor real do i-ésimo exemplo\n",
    "- $\\hat{y}_i$ é o valor previsto do i-ésimo exemplo\n",
    "\n",
    "\n",
    "O objetivo durante o treinamento de um modelo de aprendizado de máquina é minimizar essa função de perda. Isso significa que queremos que nossas previsões ($\\hat{y}_i$) estejam o mais próximo possível dos valores reais ($y_i$). Quanto menor o MSE, melhor nosso modelo é capaz de realizar previsões precisas."
   ]
  },
  {
   "cell_type": "markdown",
   "id": "d4550e7f",
   "metadata": {},
   "source": [
    "### 4.2 Algoritmo Adam (Adaptive Moment Estimation)\n",
    "\n",
    "O algoritmo Adam (Adaptive Moment Estimation) é um método de otimização que pode ser usado em vez dos procedimentos clássicos de descida de gradiente estocástico para atualizar os pesos da rede de forma iterativa com base nos dados de treinamento.\n",
    "\n",
    "Adam é uma combinação dos métodos AdaGrad e RMSProp, que são outros algoritmos de otimização. Ele calcula taxas de aprendizado adaptativas para diferentes parâmetros. Em outras palavras, ele computa médias móveis tanto do gradiente quanto do quadrado do gradiente, e essas médias são usadas para dimensionar a taxa de aprendizado.\n",
    "\n",
    "Aqui estão as fórmulas matemáticas para o Adam:\n",
    "\n",
    "$$m_t = \\beta_1 \\cdot m_{t-1} + (1 - \\beta_1) \\cdot g_t$$\n",
    "$$v_t = \\beta_2 \\cdot v_{t-1} + (1 - \\beta_2) \\cdot g_t^2$$\n",
    "$$\\hat{m}_t = \\frac{m_t}{1 - \\beta_1^t}$$\n",
    "$$\\hat{v}_t = \\frac{v_t}{1 - \\beta_2^t}$$\n",
    "$$\\theta_t = \\theta_{t-1} - \\alpha \\cdot \\frac{\\hat{m}_t}{\\sqrt{\\hat{v}_t} + \\epsilon}$$\n",
    "\n",
    "Onde:\n",
    "\n",
    "- $m_t$ e $v_t$ são estimativas do primeiro momento (a média) e do segundo momento (a variância não centralizada) do gradiente, respectivamente.\n",
    "- $\\beta_1$ e $\\beta_2$ são os fatores de decaimento para essas estimativas.\n",
    "- $g_t$ é o gradiente no tempo $t$.\n",
    "- $\\hat{m}_t$ e $\\hat{v}_t$ são versões corrigidas por viés de $m_t$ e $v_t$.\n",
    "- $\\alpha$ é a taxa de aprendizado.\n",
    "- $\\epsilon$ é um termo de suavização para evitar a divisão por zero.\n",
    "- $\\theta_t$ é o parâmetro atualizado no tempo $t$.\n",
    "\n",
    "\n",
    "O algoritmo Adam é bastante eficaz e requer pouca configuração de memória, sendo uma escolha popular para redes neurais profundas."
   ]
  },
  {
   "cell_type": "markdown",
   "id": "d3e7df75",
   "metadata": {},
   "source": [
    "### 4.3 Retropropagação no SimpleNet\n",
    "\n",
    "O processo de retropropagação (Backward Propagation) é um algoritmo usado em redes neurais para calcular o gradiente da função de perda em relação aos pesos da rede. Ele é chamado de \"backpropagation\" porque o cálculo do gradiente é feito de trás para frente, começando da função de perda e indo até as camadas de entrada.\n",
    "\n",
    "Aqui está uma descrição detalhada do processo de retropropagação na sua rede SimpleNet:\n",
    "\n",
    "1. **Cálculo do Erro**: Primeiro, calculamos o erro da previsão usando a função de custo MSE. Para um único exemplo, o erro é dado por:\n",
    "\n",
    "    $$E = \\frac{1}{2}(y - \\hat{y})^2$$\n",
    "\n",
    "    onde $y$ é o valor real e $\\hat{y}$ é o valor previsto pela rede.\n",
    "\n",
    "2. **Gradiente na Camada de Saída**: O próximo passo é calcular o gradiente do erro em relação aos pesos da camada de saída. Usando a regra da cadeia, temos:\n",
    "\n",
    "    $$\\frac{\\partial E}{\\partial w_{out}} = \\frac{\\partial E}{\\partial \\hat{y}} \\cdot \\frac{\\partial \\hat{y}}{\\partial w_{out}}$$\n",
    "\n",
    "    Onde $w_{out}$ são os pesos da camada de saída. Calculamos cada parte separadamente:\n",
    "\n",
    "    $$\\frac{\\partial E}{\\partial \\hat{y}} = -(y - \\hat{y})$$\n",
    "\n",
    "    $$\\frac{\\partial \\hat{y}}{\\partial w_{out}} = \\hat{y}(1 - \\hat{y}) \\cdot h_{out}$$\n",
    "\n",
    "    Onde $h_{out}$ é a saída da camada oculta. Portanto, o gradiente na camada de saída é:\n",
    "\n",
    "    $$\\frac{\\partial E}{\\partial w_{out}} = -(y - \\hat{y}) \\cdot \\hat{y}(1 - \\hat{y}) \\cdot h_{out}$$\n",
    "\n",
    "3. **Gradiente na Camada de Entrada**: Da mesma forma, podemos calcular o gradiente do erro em relação aos pesos da camada de entrada:\n",
    "\n",
    "    $$\\frac{\\partial E}{\\partial w_{in}} = \\frac{\\partial E}{\\partial h_{out}} \\cdot \\frac{\\partial h_{out}}{\\partial w_{in}}$$\n",
    "\n",
    "    Onde $w_{in}$ são os pesos da camada de entrada. Novamente, calculamos cada parte separadamente:\n",
    "\n",
    "    $$\\frac{\\partial E}{\\partial h_{out}} = \\frac{\\partial E}{\\partial \\hat{y}} \\cdot \\frac{\\partial \\hat{y}}{\\partial h_{out}} = -(y - \\hat{y}) \\cdot \\hat{y}(1 - \\hat{y})$$\n",
    "\n",
    "    $$\\frac{\\partial h_{out}}{\\partial w_{in}} = h_{out}(1 - h_{out}) \\cdot x$$\n",
    "\n",
    "    Onde $x$ é a entrada para a rede. Portanto, o gradiente na camada de entrada é:\n",
    "\n",
    "    $$\\frac{\\partial E}{\\partial w_{in}} = -(y - \\hat{y}) \\cdot \\hat{y}(1 - \\hat{y}) \\cdot h_{out}(1 - h_{out}) \\cdot x$$\n",
    "\n",
    "4. **Atualização dos Pesos**: Finalmente, usamos o algoritmo Adam para atualizar os pesos em ambas as camadas. O Adam ajusta a taxa de aprendizado para cada peso individualmente, com base nas estimativas do primeiro e segundo momentos do gradiente.\n"
   ]
  },
  {
   "cell_type": "markdown",
   "id": "15c00ad1",
   "metadata": {},
   "source": [
    "## 5. Implementação da SimpleNet 🏗️"
   ]
  },
  {
   "cell_type": "code",
   "execution_count": 14,
   "id": "f9dac878",
   "metadata": {},
   "outputs": [],
   "source": [
    "class SimpleNet(lightning.LightningModule):\n",
    "    \n",
    "    # Método construtor\n",
    "    def __init__(self):\n",
    "        super(SimpleNet, self).__init__()\n",
    "        self.input_layer  = nn.Linear(2, 4)\n",
    "        self.output_layer = nn.Linear(4, 1)\n",
    "        self.sigmoid      = nn.Sigmoid()\n",
    "        self.loss         = nn.MSELoss()\n",
    "        \n",
    "    # Método da passada para frente (forward)\n",
    "    def forward(self, input):\n",
    "        x = self.input_layer(input)\n",
    "        x = self.output_layer(x)\n",
    "        x = self.sigmoid(x)\n",
    "        return x\n",
    "    \n",
    "    # Método de otimização\n",
    "    def configure_optimizers(self):\n",
    "        params    = self.parameters()\n",
    "        optimizer = optim.Adam(params=params, lr=0.01)\n",
    "        return optimizer\n",
    "    \n",
    "    # Método das passadas de treinamento\n",
    "    def training_step(self, batch, batch_idx):\n",
    "        x, y    = batch\n",
    "        outputs = self(x)\n",
    "        loss    = self.loss(outputs, y)\n",
    "        return loss\n",
    "    \n",
    "# Instanciando a classe SimpleNet\n",
    "modelo = SimpleNet()"
   ]
  },
  {
   "cell_type": "markdown",
   "id": "3656f996",
   "metadata": {},
   "source": [
    "## 6. Treinamento da SimpleNet 🏃‍♂️"
   ]
  },
  {
   "cell_type": "code",
   "execution_count": null,
   "id": "00ce638d",
   "metadata": {},
   "outputs": [],
   "source": []
  }
 ],
 "metadata": {
  "kernelspec": {
   "display_name": "Python 3 (ipykernel)",
   "language": "python",
   "name": "python3"
  },
  "language_info": {
   "codemirror_mode": {
    "name": "ipython",
    "version": 3
   },
   "file_extension": ".py",
   "mimetype": "text/x-python",
   "name": "python",
   "nbconvert_exporter": "python",
   "pygments_lexer": "ipython3",
   "version": "3.10.13"
  }
 },
 "nbformat": 4,
 "nbformat_minor": 5
}
